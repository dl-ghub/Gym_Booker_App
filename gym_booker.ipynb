{
 "cells": [
  {
   "cell_type": "markdown",
   "metadata": {},
   "source": [
    "# Setup"
   ]
  },
  {
   "cell_type": "code",
   "execution_count": 3,
   "metadata": {},
   "outputs": [],
   "source": [
    "from selenium import webdriver\n",
    "from selenium.webdriver.common.by import By\n",
    "from selenium.webdriver.common.keys import Keys\n",
    "from selenium.webdriver.support.ui import WebDriverWait\n",
    "from selenium.webdriver.support.expected_conditions import presence_of_element_located\n",
    "from selenium.webdriver.support.expected_conditions import element_to_be_clickable\n",
    "from selenium.webdriver.firefox.options import Options\n",
    "\n",
    "from bs4 import BeautifulSoup\n",
    "\n",
    "import time\n",
    "from datetime import datetime\n",
    "import re\n",
    "import json"
   ]
  },
  {
   "cell_type": "code",
   "execution_count": 4,
   "metadata": {},
   "outputs": [],
   "source": [
    "with open(\"config.json\", \"r\") as f:\n",
    "    config = json.load(f)\n",
    "\n",
    "GYM_ID = config[\"GYM_ID\"]  # One Playground Surry Hills\n",
    "USERNAME = config[\"USERNAME\"]\n",
    "PASSWORD = config[\"PASSWORD\"]"
   ]
  },
  {
   "cell_type": "markdown",
   "metadata": {},
   "source": [
    "## Helpers"
   ]
  },
  {
   "cell_type": "code",
   "execution_count": 5,
   "metadata": {},
   "outputs": [],
   "source": [
    "def get_url(date, gym_id):\n",
    "    year = date[0:4]\n",
    "    month = date[4:6]\n",
    "    day = date[6:8]\n",
    "    url = f\"https://clients.mindbodyonline.com/classic/mainclass?studioid={gym_id}&tg=&vt=&lvl=&stype=&view=&trn=0&page=&catid=&prodid=&date={month}%2f{day}%2f{year}&classid=0&prodGroupId=&sSU=&optForwardingLink=&qParam=&justloggedin=&nLgIn=&pMode=0&loc=1\"\n",
    "    return url"
   ]
  },
  {
   "cell_type": "code",
   "execution_count": 6,
   "metadata": {},
   "outputs": [
    {
     "data": {
      "text/plain": [
       "'https://clients.mindbodyonline.com/classic/mainclass?studioid=152065&tg=&vt=&lvl=&stype=&view=&trn=0&page=&catid=&prodid=&date=10%2f29%2f2023&classid=0&prodGroupId=&sSU=&optForwardingLink=&qParam=&justloggedin=&nLgIn=&pMode=0&loc=1'"
      ]
     },
     "execution_count": 6,
     "metadata": {},
     "output_type": "execute_result"
    }
   ],
   "source": [
    "# test get_url\n",
    "today = time.strftime(\"%Y%m%d\")\n",
    "get_url(today, GYM_ID)"
   ]
  },
  {
   "cell_type": "code",
   "execution_count": 7,
   "metadata": {},
   "outputs": [],
   "source": [
    "def rowgetDataText(tr, coltag=\"td\"):  # td (data) or th (header)\n",
    "    row_data = [td.get_text(strip=True) for td in tr.find_all(coltag)]\n",
    "\n",
    "    # find the SignupButton and extract its 'name' attribute\n",
    "    signup_button = tr.find(class_=\"SignupButton\")\n",
    "    if signup_button:\n",
    "        signup_button_name = signup_button.get(\"name\", \"N/A\")\n",
    "    else:\n",
    "        signup_button_name = \"N/A\"\n",
    "\n",
    "    row_data.append(signup_button_name)\n",
    "\n",
    "    return row_data"
   ]
  },
  {
   "cell_type": "code",
   "execution_count": 8,
   "metadata": {},
   "outputs": [],
   "source": [
    "def tableDataText(table):\n",
    "    \"\"\"Parses a html segment started with tag <table> followed\n",
    "    by multiple <tr> (table rows) and inner <td> (table data) tags.\n",
    "    It returns a list of rows with inner columns.\n",
    "    Accepts only one <th> (table header/data) in the first row.\n",
    "    \"\"\"\n",
    "    rows = []\n",
    "    trs = table.find_all(\"tr\")\n",
    "    headerow = rowgetDataText(trs[0], \"th\")\n",
    "    if headerow:  # if there is a header row include first\n",
    "        rows.append(headerow + [\"SignupButton Name\"])\n",
    "        trs = trs[1:]\n",
    "    for tr in trs:  # for every table row\n",
    "        rows.append(rowgetDataText(tr, \"td\"))  # data row\n",
    "    return rows"
   ]
  },
  {
   "cell_type": "code",
   "execution_count": 9,
   "metadata": {},
   "outputs": [],
   "source": [
    "def clean_html(html):\n",
    "    # replace all \\xa0 with space\n",
    "    html = html.replace(\"\\xa0\", \" \")\n",
    "\n",
    "    # replace all &nbsp; with space\n",
    "    html = html.replace(\"&nbsp;\", \" \")\n",
    "\n",
    "    # replace all &amp; with &\n",
    "    html = html.replace(\"&amp;\", \"&\")\n",
    "\n",
    "    # replace all &quot; with \"\n",
    "    html = html.replace(\"&quot;\", '\"')\n",
    "\n",
    "    return html"
   ]
  },
  {
   "cell_type": "code",
   "execution_count": 10,
   "metadata": {},
   "outputs": [],
   "source": [
    "def find_availability(input_string):\n",
    "    # Define the regular expression pattern\n",
    "    pattern = r\"\\((\\d+)&nbsp;Reserved,&nbsp;(\\d+)&nbsp;Open\\)\"\n",
    "\n",
    "    # Search for the pattern in the input string\n",
    "    match = re.search(pattern, input_string)\n",
    "\n",
    "    if match:\n",
    "        # Extract the numbers\n",
    "        x = int(match.group(1))\n",
    "        y = int(match.group(2))\n",
    "        return x, y\n",
    "    else:\n",
    "        return None, None"
   ]
  },
  {
   "cell_type": "code",
   "execution_count": 11,
   "metadata": {},
   "outputs": [],
   "source": [
    "def convert_date(date_str):\n",
    "    # Use regular expression to extract day, month, and year\n",
    "    match = re.search(r\"([a-zA-Z]{3})(\\d{1,2}) ([a-zA-Z]+) (\\d{4})\", date_str)\n",
    "    if match:\n",
    "        day_of_week = match.group(1)\n",
    "        day = int(match.group(2))\n",
    "        month = match.group(3)\n",
    "        year = int(match.group(4))\n",
    "\n",
    "        # Convert month name to month number\n",
    "        month_number = datetime.strptime(month, \"%B\").month\n",
    "\n",
    "        # Create a datetime object\n",
    "        dt = datetime(year, month_number, day)\n",
    "\n",
    "        return dt\n",
    "    else:\n",
    "        return None"
   ]
  },
  {
   "cell_type": "code",
   "execution_count": 12,
   "metadata": {},
   "outputs": [],
   "source": [
    "def parse_time_and_timezone(time_str):\n",
    "    # Use regular expression to extract time and timezone\n",
    "    match = re.search(r\"(\\d{1,2}:\\d{2} [APMapm]{2})\\s+([A-Z]{3,4})\", time_str)\n",
    "    if match:\n",
    "        time_12hr = match.group(1)\n",
    "        timezone = match.group(2)\n",
    "\n",
    "        # Convert 12-hour time to datetime object\n",
    "        dt_obj = datetime.strptime(time_12hr, \"%I:%M %p\")\n",
    "\n",
    "        # Convert to 24-hour time\n",
    "        time_24hr = dt_obj.time().strftime(\"%H:%M:%S\")\n",
    "\n",
    "        return time_24hr, timezone\n",
    "    else:\n",
    "        return None, None"
   ]
  },
  {
   "cell_type": "code",
   "execution_count": 13,
   "metadata": {},
   "outputs": [],
   "source": [
    "def parse_instructor(instructor_str):\n",
    "    # Use regular expression to extract instructor name and optional number\n",
    "    match = re.search(r\"([a-zA-Z\\s]+)(?:\\((\\d+)\\))?\", instructor_str)\n",
    "    if match:\n",
    "        instructor_name = match.group(1).strip()\n",
    "        is_replacement = bool(match.group(2))\n",
    "        return instructor_name, is_replacement\n",
    "    else:\n",
    "        return None, False"
   ]
  },
  {
   "cell_type": "code",
   "execution_count": 14,
   "metadata": {},
   "outputs": [],
   "source": [
    "def parse_duration(duration_str):\n",
    "    # Initialize total_minutes to 0\n",
    "    total_minutes = 0\n",
    "\n",
    "    # Use regular expression to extract hours and minutes\n",
    "    hours_match = re.search(r\"(\\d+) hour\", duration_str)\n",
    "    minutes_match = re.search(r\"(\\d+) minute\", duration_str)\n",
    "\n",
    "    # If hours are present, convert to minutes and add to total_minutes\n",
    "    if hours_match:\n",
    "        hours = int(hours_match.group(1))\n",
    "        total_minutes += hours * 60\n",
    "\n",
    "    # If minutes are present, add to total_minutes\n",
    "    if minutes_match:\n",
    "        minutes = int(minutes_match.group(1))\n",
    "        total_minutes += minutes\n",
    "\n",
    "    return total_minutes"
   ]
  },
  {
   "cell_type": "code",
   "execution_count": 15,
   "metadata": {},
   "outputs": [],
   "source": [
    "def parse_availability(availability_str):\n",
    "    # Use regular expression to extract reserved and open spaces\n",
    "    match = re.search(r\"(\\d+) Reserved, (\\d+) Open\", availability_str)\n",
    "    if match:\n",
    "        reserved_spaces = int(match.group(1))\n",
    "        open_spaces = int(match.group(2))\n",
    "        return reserved_spaces, open_spaces\n",
    "    else:\n",
    "        return None, None"
   ]
  },
  {
   "cell_type": "code",
   "execution_count": 16,
   "metadata": {},
   "outputs": [],
   "source": [
    "def print_classes(gym_classes):\n",
    "    date = gym_classes[0].date  # first day of the week\n",
    "\n",
    "    print(\"=\" * 50)\n",
    "    print(\n",
    "        date.strftime(\"%A %d of %B\")\n",
    "        + f\" ({gym_classes[0].time_zone}) at {gym_classes[0].location}\"\n",
    "    )\n",
    "\n",
    "    for gym_class in gym_classes:\n",
    "        if gym_class.date != date:\n",
    "            date = gym_class.date\n",
    "            print(\"=\" * 50)\n",
    "            print(\n",
    "                date.strftime(\"%A %d of %B\")\n",
    "                + f\" ({gym_classes[0].time_zone}) at {gym_classes[0].location}\"\n",
    "            )\n",
    "        print(gym_class)"
   ]
  },
  {
   "cell_type": "code",
   "execution_count": 17,
   "metadata": {},
   "outputs": [],
   "source": [
    "def strikethrough(mytext):\n",
    "    \"\"\"replacing space with 'non-break space' and striking through\"\"\"\n",
    "    return \"\\u0336\".join(mytext.replace(\" \", \"\\u00a0\")) + \"\\u0336\""
   ]
  },
  {
   "cell_type": "markdown",
   "metadata": {},
   "source": [
    "## Custom Class"
   ]
  },
  {
   "cell_type": "code",
   "execution_count": 18,
   "metadata": {},
   "outputs": [],
   "source": [
    "class GymClass:\n",
    "    def __init__(\n",
    "        self,\n",
    "        id,\n",
    "        date,\n",
    "        start_time,\n",
    "        time_zone,\n",
    "        spaces_booked,\n",
    "        spaces_available,\n",
    "        class_name,\n",
    "        instructor,\n",
    "        is_replacement,\n",
    "        assistant1,\n",
    "        assistant2,\n",
    "        location,\n",
    "        sub_location,\n",
    "        duration,\n",
    "        signup_button_name,\n",
    "    ):\n",
    "        self.date = date\n",
    "        self.id = id\n",
    "        self.start_time = start_time\n",
    "        self.time_zone = time_zone\n",
    "        self.spaces_booked = spaces_booked\n",
    "        self.spaces_available = spaces_available\n",
    "        self.class_name = class_name\n",
    "        self.instructor = instructor\n",
    "        self.is_replacement = is_replacement\n",
    "        self.assistant1 = assistant1\n",
    "        self.assistant2 = assistant2\n",
    "        self.location = location\n",
    "        self.sub_location = sub_location\n",
    "        self.duration = duration\n",
    "        self.signup_button_name = signup_button_name\n",
    "\n",
    "        try:\n",
    "            self.spaces_total = self.spaces_booked + self.spaces_available\n",
    "        except:\n",
    "            self.spaces_total = None\n",
    "        self.is_full = self.spaces_booked == self.spaces_total\n",
    "\n",
    "    def __str__(self):\n",
    "        if self.signup_button_name == \"N/A\":\n",
    "            full = \"-\"\n",
    "        elif self.is_full:\n",
    "            full = \"X\"\n",
    "        else:\n",
    "            full = \"O\"\n",
    "\n",
    "        if self.spaces_booked == None:  # class has happened already\n",
    "            availability = \"Finished\"\n",
    "        else:\n",
    "            availability = (\n",
    "                f\"{self.spaces_booked}/{self.spaces_available + self.spaces_booked}\"\n",
    "            )\n",
    "\n",
    "        if self.is_replacement:\n",
    "            instructor = f\"{self.instructor} (R)\"\n",
    "        else:\n",
    "            instructor = self.instructor\n",
    "\n",
    "        return_string = f\"({self.id}) {self.start_time[0:5]} ({full}): {self.class_name} ({availability}) by {instructor} for {self.duration} minutes.\"\n",
    "\n",
    "        if self.spaces_booked == None:  # Class has happened already\n",
    "            return strikethrough(return_string)\n",
    "\n",
    "        return return_string\n",
    "\n",
    "    def to_dict(self):\n",
    "        return {\n",
    "            \"id\": self.id,\n",
    "            \"date\": self.date,\n",
    "            \"start_time\": self.start_time,\n",
    "            \"time_zone\": self.time_zone,\n",
    "            \"spaces_booked\": self.spaces_booked,\n",
    "            \"spaces_available\": self.spaces_available,\n",
    "            \"class_name\": self.class_name,\n",
    "            \"instructor\": self.instructor,\n",
    "            \"is_replacement\": self.is_replacement,\n",
    "            \"assistant1\": self.assistant1,\n",
    "            \"assistant2\": self.assistant2,\n",
    "            \"location\": self.location,\n",
    "            \"sub_location\": self.sub_location,\n",
    "            \"duration\": self.duration,\n",
    "            \"signup_button_name\": self.signup_button_name,\n",
    "        }"
   ]
  },
  {
   "cell_type": "markdown",
   "metadata": {},
   "source": [
    "## Scrape Data"
   ]
  },
  {
   "cell_type": "code",
   "execution_count": 19,
   "metadata": {},
   "outputs": [],
   "source": [
    "def setup_driver(headless=True):\n",
    "    firefox_options = Options()\n",
    "    if headless:\n",
    "        firefox_options.add_argument(\"--headless\")\n",
    "        return webdriver.Firefox(options=firefox_options)\n",
    "    return webdriver.Firefox(options=firefox_options)"
   ]
  },
  {
   "cell_type": "code",
   "execution_count": 20,
   "metadata": {},
   "outputs": [],
   "source": [
    "def wait_for_element_presence(driver, element_id, timeout=10):\n",
    "    wait = WebDriverWait(driver, timeout)\n",
    "    try:\n",
    "        wait.until(presence_of_element_located((By.ID, element_id)))\n",
    "    except:\n",
    "        print(f\"Element {element_id} not found, timeout reached.\")"
   ]
  },
  {
   "cell_type": "code",
   "execution_count": 21,
   "metadata": {},
   "outputs": [],
   "source": [
    "def wait_for_element_clickable(driver, element_id, timeout=10):\n",
    "    wait = WebDriverWait(driver, timeout)\n",
    "    try:\n",
    "        wait.until(element_to_be_clickable((By.ID, element_id)))\n",
    "    except:\n",
    "        print(f\"Element {element_id} not clickable or not found, timeout reached.\")"
   ]
  },
  {
   "cell_type": "code",
   "execution_count": 22,
   "metadata": {},
   "outputs": [],
   "source": [
    "def get_element_html(driver, element_id):\n",
    "    element = driver.find_element(By.ID, element_id)\n",
    "    return element.get_attribute(\"outerHTML\")"
   ]
  },
  {
   "cell_type": "code",
   "execution_count": 23,
   "metadata": {},
   "outputs": [],
   "source": [
    "def get_table(url, headless):\n",
    "    with setup_driver(headless) as driver:\n",
    "        driver.get(url)\n",
    "\n",
    "        # Wait and click on Group Training tab\n",
    "        wait_for_element_presence(driver, \"tabA7\")\n",
    "        driver.find_element(By.ID, \"tabA7\").click()\n",
    "\n",
    "        # Get table for this week\n",
    "        wait_for_element_presence(driver, \"classSchedule-mainTable\")\n",
    "        table_current_html = get_element_html(driver, \"classSchedule-mainTable\")\n",
    "        print(\"Succesfully retrieved table for this week\")\n",
    "\n",
    "        # Get table for next week\n",
    "        driver.find_element(By.ID, \"week-arrow-r\").click()\n",
    "        wait_for_element_presence(driver, \"classSchedule-mainTable\")\n",
    "        table_next_html = get_element_html(driver, \"classSchedule-mainTable\")\n",
    "        print(\"Succesfully retrieved table for next week\")\n",
    "\n",
    "        # clean the html\n",
    "        table_current_html, table_next_html = map(\n",
    "            clean_html, [table_current_html, table_next_html]\n",
    "        )\n",
    "        print(\"Tables cleaned\")\n",
    "\n",
    "        # close the browser\n",
    "        driver.close()\n",
    "        print(\"Driver closed\")\n",
    "\n",
    "    return table_current_html, table_next_html"
   ]
  },
  {
   "cell_type": "code",
   "execution_count": 24,
   "metadata": {},
   "outputs": [],
   "source": [
    "# table_current_html, table_next_html = get_table(get_url(today, GYM_ID), headless=True)"
   ]
  },
  {
   "cell_type": "markdown",
   "metadata": {},
   "source": [
    "## Parse HTML"
   ]
  },
  {
   "cell_type": "code",
   "execution_count": 25,
   "metadata": {},
   "outputs": [],
   "source": [
    "def replace_empty_with_none(row):\n",
    "    return [None if x == \"\" else x for x in row]"
   ]
  },
  {
   "cell_type": "code",
   "execution_count": 26,
   "metadata": {},
   "outputs": [],
   "source": [
    "def generate_class_id(date, counter):\n",
    "    return date.strftime(\"%Y%m%d\") + str(counter).zfill(2)"
   ]
  },
  {
   "cell_type": "code",
   "execution_count": 27,
   "metadata": {},
   "outputs": [],
   "source": [
    "def parse_row(row, date, counter):\n",
    "    start_time, time_zone = parse_time_and_timezone(row[0])\n",
    "\n",
    "    if row[1] is None:\n",
    "        spaces_booked, spaces_available = None, None\n",
    "    else:\n",
    "        spaces_booked, spaces_available = parse_availability(row[1])\n",
    "\n",
    "    instructor, is_replacement = parse_instructor(row[3])\n",
    "\n",
    "    return GymClass(\n",
    "        id=generate_class_id(date, counter),\n",
    "        date=date,\n",
    "        start_time=start_time,\n",
    "        time_zone=time_zone,\n",
    "        spaces_booked=spaces_booked,\n",
    "        spaces_available=spaces_available,\n",
    "        class_name=row[2],\n",
    "        instructor=instructor,\n",
    "        is_replacement=is_replacement,\n",
    "        assistant1=row[4],\n",
    "        assistant2=row[5],\n",
    "        location=row[6],\n",
    "        sub_location=row[7],\n",
    "        duration=parse_duration(row[8]),\n",
    "        signup_button_name=row[9],\n",
    "    )"
   ]
  },
  {
   "cell_type": "code",
   "execution_count": 28,
   "metadata": {},
   "outputs": [],
   "source": [
    "def parse_html_table(table):\n",
    "    gym_classes = []\n",
    "    soup = BeautifulSoup(table, \"html.parser\")\n",
    "    table = soup.find(\"table\")\n",
    "    list_table = tableDataText(table)\n",
    "\n",
    "    # replace all empty strings with None\n",
    "    list_table = [replace_empty_with_none(row) for row in list_table]\n",
    "\n",
    "    date = convert_date(list_table[0][0])\n",
    "    counter = 0\n",
    "\n",
    "    for row in list_table[1:]:\n",
    "        # Check if row is a date row\n",
    "        if len(row) == 2:\n",
    "            date = convert_date(row[0])\n",
    "            counter = 0\n",
    "            continue\n",
    "\n",
    "        gym_class = parse_row(row, date, counter)\n",
    "        gym_classes.append(gym_class)\n",
    "\n",
    "        counter += 1\n",
    "\n",
    "    return gym_classes"
   ]
  },
  {
   "cell_type": "code",
   "execution_count": 29,
   "metadata": {},
   "outputs": [],
   "source": [
    "# gym_classes_current = parse_html_table(table_current_html)\n",
    "# gym_classes_next = parse_html_table(table_next_html)\n",
    "\n",
    "# print_classes(gym_classes_current)\n",
    "# print_classes(gym_classes_next)"
   ]
  },
  {
   "cell_type": "markdown",
   "metadata": {},
   "source": [
    "## Display Data"
   ]
  },
  {
   "cell_type": "code",
   "execution_count": null,
   "metadata": {},
   "outputs": [],
   "source": []
  },
  {
   "cell_type": "markdown",
   "metadata": {},
   "source": [
    "## Book a Class"
   ]
  },
  {
   "cell_type": "code",
   "execution_count": 30,
   "metadata": {},
   "outputs": [],
   "source": [
    "def find_class_by_id(classes, class_id):\n",
    "    try:\n",
    "        return next(x for x in classes if x.id == str(class_id))\n",
    "    except StopIteration:\n",
    "        raise ValueError(\n",
    "            \"Class ID not found in classes. Please check the class ID is correct.\"\n",
    "        )"
   ]
  },
  {
   "cell_type": "code",
   "execution_count": 31,
   "metadata": {},
   "outputs": [],
   "source": [
    "def print_class_info(class_object):\n",
    "    date_string = class_object.date.strftime(\"%A %d of %B %Y\")\n",
    "    print(f\"Date:       {date_string}\")\n",
    "    print(f\"Time:       {class_object.start_time} ({class_object.time_zone})\")\n",
    "    print(f\"Class:      {class_object.class_name}\")\n",
    "    print(f\"Instructor: {class_object.instructor}\")\n",
    "    print(f\"Location:   {class_object.location}\")\n",
    "    print(\"...\")"
   ]
  },
  {
   "cell_type": "code",
   "execution_count": 32,
   "metadata": {},
   "outputs": [],
   "source": [
    "def book_class(classes, class_id, headless):\n",
    "    class_object = find_class_by_id(classes, class_id)\n",
    "\n",
    "    assert not class_object.is_full, \"Class is already full.\"\n",
    "    assert class_object.signup_button_name != \"N/A\", \"Class is not yet bookable.\"\n",
    "\n",
    "    # print information about the class\n",
    "    print(\"Attempting to book the following class:\")\n",
    "    print(\"=\" * 50)\n",
    "    print_class_info(class_object)\n",
    "\n",
    "    class_id = class_object.id\n",
    "    # initial date for url\n",
    "    date = class_object.date.strftime(\"%d/%m/%Y\")\n",
    "    url = get_url(class_object.date.strftime(\"%Y%m%d\"), GYM_ID)\n",
    "\n",
    "    with setup_driver(headless) as driver:\n",
    "        driver.get(url)\n",
    "\n",
    "        wait_for_element_presence(driver, \"btnSignIn\")\n",
    "\n",
    "        # Set the date\n",
    "        wait_for_element_presence(driver, \"txtDate\")\n",
    "        date_input = driver.find_element(By.ID, \"txtDate\")\n",
    "        date_input.send_keys(Keys.BACKSPACE * 11)\n",
    "        date_input.send_keys(date)\n",
    "        date_input.send_keys(Keys.ENTER)\n",
    "\n",
    "        time.sleep(2)\n",
    "\n",
    "        # Find the signup button\n",
    "        signup_button = driver.find_element(By.NAME, class_object.signup_button_name)\n",
    "\n",
    "        # Check availability one last time\n",
    "        row_html = signup_button.find_element(By.XPATH, \"./../..\").get_attribute(\n",
    "            \"outerHTML\"\n",
    "        )\n",
    "        reserved, open = find_availability(row_html)\n",
    "        assert open > 0, \"Class is full, consider running get_table() again.\"\n",
    "\n",
    "        signup_button.click()\n",
    "\n",
    "        # Fill in details\n",
    "        wait_for_element_clickable(driver, \"su1UserName\")\n",
    "        driver.find_element(By.ID, \"su1UserName\").send_keys(USERNAME)\n",
    "        driver.find_element(By.ID, \"su1Password\").send_keys(PASSWORD)\n",
    "        driver.find_element(By.ID, \"su1Password\").send_keys(Keys.ENTER)\n",
    "\n",
    "        # Confirm booking\n",
    "        wait_for_element_presence(driver, \"SubmitEnroll2\")\n",
    "        driver.find_element(By.ID, \"SubmitEnroll2\").click()\n",
    "\n",
    "        # Verify Booking\n",
    "        wait_for_element_presence(driver, \"notifyBooking\")\n",
    "        print(\"Class booked successfully!\")\n",
    "\n",
    "        driver.close()\n",
    "\n",
    "    return"
   ]
  },
  {
   "cell_type": "markdown",
   "metadata": {},
   "source": [
    "# Run"
   ]
  },
  {
   "cell_type": "code",
   "execution_count": 33,
   "metadata": {},
   "outputs": [
    {
     "name": "stdout",
     "output_type": "stream",
     "text": [
      "Succesfully retrieved table for this week\n",
      "Succesfully retrieved table for next week\n",
      "Tables cleaned\n",
      "Driver closed\n"
     ]
    }
   ],
   "source": [
    "current_week_raw, next_week_raw = get_table(get_url(today, GYM_ID), headless=True)\n",
    "current_week_classes, next_week_classes = map(\n",
    "    parse_html_table, [current_week_raw, next_week_raw]\n",
    ")\n",
    "all_classes = current_week_classes + next_week_classes"
   ]
  },
  {
   "cell_type": "code",
   "execution_count": 34,
   "metadata": {},
   "outputs": [
    {
     "name": "stdout",
     "output_type": "stream",
     "text": [
      "Attempting to book the following class:\n",
      "==================================================\n",
      "Date:       Tuesday 31 of October 2023\n",
      "Time:       08:15:00 (AEDT)\n",
      "Class:      Strong\n",
      "Instructor: Angela Aho\n",
      "Location:   Surry Hills One Playground\n",
      "...\n",
      "Class booked successfully!\n"
     ]
    }
   ],
   "source": [
    "book_class(all_classes, 2023103107, headless=True)"
   ]
  }
 ],
 "metadata": {
  "kernelspec": {
   "display_name": "tensorflow",
   "language": "python",
   "name": "python3"
  },
  "language_info": {
   "codemirror_mode": {
    "name": "ipython",
    "version": 3
   },
   "file_extension": ".py",
   "mimetype": "text/x-python",
   "name": "python",
   "nbconvert_exporter": "python",
   "pygments_lexer": "ipython3",
   "version": "3.10.10"
  }
 },
 "nbformat": 4,
 "nbformat_minor": 2
}
